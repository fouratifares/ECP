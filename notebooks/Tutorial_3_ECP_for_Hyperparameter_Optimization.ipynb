{
  "nbformat": 4,
  "nbformat_minor": 0,
  "metadata": {
    "colab": {
      "provenance": []
    },
    "kernelspec": {
      "name": "python3",
      "display_name": "Python 3"
    },
    "language_info": {
      "name": "python"
    }
  },
  "cells": [
    {
      "cell_type": "code",
      "source": [
        "import os\n",
        "\n",
        "# Clone ECP repository if not already cloned\n",
        "if not os.path.exists(\"ECP\"):\n",
        "    os.system(\"git clone https://github.com/fouratifares/ECP.git\")"
      ],
      "metadata": {
        "id": "5cllUIwyD5Zd"
      },
      "execution_count": 2,
      "outputs": []
    },
    {
      "cell_type": "code",
      "source": [
        "cd ECP"
      ],
      "metadata": {
        "colab": {
          "base_uri": "https://localhost:8080/"
        },
        "id": "3T1ptu-UD3D_",
        "outputId": "220df1a0-d62f-4675-cc4f-d5b46934908a"
      },
      "execution_count": 3,
      "outputs": [
        {
          "output_type": "stream",
          "name": "stdout",
          "text": [
            "/content/ECP\n"
          ]
        }
      ]
    },
    {
      "cell_type": "code",
      "source": [
        "from optimizers.ECP import ECP\n",
        "import numpy as np\n",
        "import matplotlib.pyplot as plt\n",
        "import pandas as pd\n",
        "from sklearn.model_selection import KFold\n",
        "from sklearn.metrics import mean_squared_error\n",
        "from sklearn.kernel_ridge import KernelRidge\n",
        "from sklearn.preprocessing import StandardScaler"
      ],
      "metadata": {
        "id": "7Xp3yX2f0UGf"
      },
      "execution_count": 4,
      "outputs": []
    },
    {
      "cell_type": "code",
      "source": [
        "class Function:\n",
        "    def __init__(self):\n",
        "        self.data = self.load_dataset()\n",
        "        self.X, self.y = self.preprocess_data()\n",
        "        self.bounds = np.array([(-1, 1), (-1, 1)])  # ln(lambda), ln(sigma)\n",
        "        self.dimensions = 2  # Two dimensions for ln(lambda) and ln(sigma)\n",
        "\n",
        "    def load_dataset(self) -> pd.DataFrame:\n",
        "        \"\"\"Load the Breast Cancer Wisconsin dataset from the UCI repository.\"\"\"\n",
        "        url = \"https://archive.ics.uci.edu/ml/machine-learning-databases/breast-cancer-wisconsin/wdbc.data\"\n",
        "        column_names = ['ID', 'Diagnosis'] + [f'feature_{i}' for i in range(1, 31)]\n",
        "        data = pd.read_csv(url, header=None, names=column_names)\n",
        "        return data\n",
        "\n",
        "    def preprocess_data(self) -> tuple:\n",
        "        \"\"\"Preprocess the data into features and target.\"\"\"\n",
        "        # Dropping the ID column\n",
        "        data = self.data.drop(columns=['ID'])\n",
        "\n",
        "        # Convert the 'Diagnosis' column to binary (M: 1, B: 0)\n",
        "        data['Diagnosis'] = data['Diagnosis'].map({'M': 1, 'B': 0})\n",
        "\n",
        "        # Extract features (X) and target (y)\n",
        "        X = data.iloc[:, 1:].values  # Features (all columns except 'Diagnosis')\n",
        "        y = data.iloc[:, 0].values  # Target ('Diagnosis')\n",
        "        return X, y\n",
        "\n",
        "    def __call__(self, x: np.ndarray = None, **kwargs) -> float:\n",
        "        \"\"\"Evaluate the model by performing kernel ridge regression.\"\"\"\n",
        "\n",
        "        if x is not None:\n",
        "            # Handle input as a numpy array\n",
        "            if len(x) != self.dimensions:\n",
        "                raise ValueError(f\"Input must have {self.dimensions} dimensions.\")\n",
        "\n",
        "        x = np.array(x)  # Ensure x is a numpy array\n",
        "        lambda_vals = [np.exp(x[0])]\n",
        "        sigma_vals = [np.exp(x[1])]\n",
        "\n",
        "        all_rewards = []\n",
        "        for lambda_, sigma_ in zip(lambda_vals, sigma_vals):\n",
        "            kf = KFold(n_splits=3)\n",
        "            mse_scores = []\n",
        "\n",
        "            for train_index, test_index in kf.split(self.X):\n",
        "                X_train, X_test = self.X[train_index], self.X[test_index]\n",
        "                y_train, y_test = self.y[train_index], self.y[test_index]\n",
        "\n",
        "                # Standardizing features\n",
        "                scaler = StandardScaler()\n",
        "                X_train = scaler.fit_transform(X_train)\n",
        "                X_test = scaler.transform(X_test)\n",
        "\n",
        "                # Model fitting\n",
        "                model = KernelRidge(alpha=lambda_, kernel='rbf', gamma=1 / (2 * sigma_ ** 2))\n",
        "                model.fit(X_train, y_train)\n",
        "\n",
        "                # Predictions and MSE calculation\n",
        "                y_pred = model.predict(X_test)\n",
        "                mse = mean_squared_error(y_test, y_pred)\n",
        "                mse_scores.append(mse)  # Collecting individual MSE for each fold\n",
        "\n",
        "            # Collecting the mean reward for each (lambda_, sigma_)\n",
        "            mean_reward = -np.mean(mse_scores)\n",
        "\n",
        "        return np.array(mean_reward)"
      ],
      "metadata": {
        "id": "J9f9KVD00C0o"
      },
      "execution_count": 5,
      "outputs": []
    },
    {
      "cell_type": "code",
      "source": [
        "f = Function()\n",
        "points, values, epsilons = ECP(f, n = 100)\n",
        "\n",
        "# Retrieve the corresponding point\n",
        "best_point = points[np.argmax(values)]\n",
        "\n",
        "print(\"The Global Search is Completed\")\n",
        "print(\"Best Point:\", best_point)\n",
        "print(\"Maximum Value:\", max(values))\n",
        "print(\"\\n\")\n",
        "\n",
        "# Compute running maximum\n",
        "running_max = np.maximum.accumulate(values)\n",
        "\n",
        "# Plot\n",
        "plt.figure(figsize=(7, 4))\n",
        "plt.plot(running_max, label=\"ECP\", color=\"blue\")\n",
        "plt.xlabel(\"Evaluations\")\n",
        "plt.ylabel(\"Achieved Maximum Value\")\n",
        "plt.title(\"Running Maximum of Values Over Iterations\")\n",
        "plt.legend()\n",
        "plt.grid()\n",
        "plt.show()"
      ],
      "metadata": {
        "colab": {
          "base_uri": "https://localhost:8080/",
          "height": 497
        },
        "id": "BNQ3BrPh16sQ",
        "outputId": "6369de6f-3386-4685-da73-5c098f0282f1"
      },
      "execution_count": 6,
      "outputs": [
        {
          "output_type": "stream",
          "name": "stdout",
          "text": [
            "The Global Search is Completed\n",
            "Best Point: [-0.93802097  0.99626649]\n",
            "Maximum Value: -0.0710791834825265\n",
            "\n",
            "\n"
          ]
        },
        {
          "output_type": "display_data",
          "data": {
            "text/plain": [
              "<Figure size 700x400 with 1 Axes>"
            ],
            "image/png": "[encoded data removed]"
          },
          "metadata": {}
        }
      ]
    },
    {
      "cell_type": "code",
      "source": [],
      "metadata": {
        "id": "ZI37_MLh2Ruz"
      },
      "execution_count": null,
      "outputs": []
    }
  ]
}